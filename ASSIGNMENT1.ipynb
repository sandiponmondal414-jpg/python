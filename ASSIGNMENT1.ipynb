{
  "nbformat": 4,
  "nbformat_minor": 0,
  "metadata": {
    "colab": {
      "provenance": []
    },
    "kernelspec": {
      "name": "python3",
      "display_name": "Python 3"
    },
    "language_info": {
      "name": "python"
    }
  },
  "cells": [
    {
      "cell_type": "markdown",
      "source": [
        "1) What is Python, and why is it popular ?\n",
        "  \n",
        "    -> Python is a high-level, interpreted programming language known for its readability and versatility. It is widely popular because of the following reasons:\n",
        "\n",
        "    i)It is widely used in web development, data analysis, artificial intelligence, scientific computing, and more.\n",
        "    ii)Python is designed to be easy to understand and write, making it a great choice for beginners and experienced programmers alike.\n",
        "    iii)Python is open-source and has a large community that contributes to its extensive libraries and frameworks and many more\n",
        "\n",
        "\n",
        "2)What is an interpreter in Python?\n",
        "\n",
        "    -> An interpreter in python is a program that converts/interprets high level language written by human into machine level language line by line (i.e. converts one line at a time). programs written in this are easy to debug,more flexible,and provides efficient memory allocation but it is slower than a compiler.\n",
        "\n",
        "\n",
        "3) What are pre-defined keywords in Python?\n",
        "   \n",
        "    -> Pre-defined keywords in python are words that are previously defined in python and each of them have a special meaning and have a specific purpose. There are many keywords in python which we can se if we rum the following code:\n",
        "        help(\"keywords\")\n",
        "   eg- def( used to define a function), if/else(for conditional statements) etc.\n",
        "\n",
        "\n",
        "  4)Can keywords be used as variable names?\n",
        "\n",
        "    -> NO, keywords cannont be used as variable names as when we compile a code where we have used a keyword as a variable name it will give us an error\n",
        "\n",
        "\n",
        "  5) What is mutability in Python?\n",
        "\n",
        "    ->Mutability in python refers to the process of changing the value of an object after its creations.\n",
        "\n",
        "\n",
        "  6)  Why are lists mutable, but tuples are immutable?\n",
        "\n",
        "    -> Tuples are immutable, meaning that once a tuple has been created, you can't replace any of its elements with a new value. Lists are mutable, meaning that you can always change a list's elements. Only immutable elements can be used as dictionary keys, and hence only tuples and not lists can be used as keys\n",
        "\n",
        "\n",
        "  7) What is the difference between “==” and “is” operators in Python?\n",
        "\n",
        "    -> In Python \"==\" is used to check whether the values of two variables in a code is equal/same or not where \"is\" is used to check whether two variables points to the same memory location or not.\n",
        "\n",
        "\n",
        "  8) What are logical operators in Python?\n",
        "\n",
        "    ->  Lopgical Operators in python is used to combine conditional statements.There are three logical operators:\n",
        "    i) AND - gives true if both the conditions are true\n",
        "    ii) OR - gives true if anyone of the condition is true\n",
        "    iii) NOT- reverses the condition.\n",
        "\n",
        "\n",
        "  9) What is type casting in Python?\n",
        "\n",
        "    -> Type casting in python is the process of changing the data types of a value or an object. For eg: we can change a=2 which is an INTEGER to a STRING bny executing this line: str(a)\n",
        "\n",
        "\n",
        "  10) What is the difference between implicit and explicit type casting?\n",
        "\n",
        "    ->  There are two types of type casting:\n",
        "    i) Implicit - here python understands standard data type automatically.for eg: if we write a=2 python will automatically understand tha its an integer\n",
        "    ii) Explicit -  here we have to change the data type as the original data type doesn't matches with what python thinks it is, For eg: if we write a =\"2\" python will think it as an string while its an integer so we have to convert it to an integer.\n",
        "\n",
        "\n",
        "  11) What is the purpose of conditional statements in Python?\n",
        "    -> The purpose of conditional statements in Python is to control the flow of execution in a program based on whether certain conditions are true or false. They enable a program to make decisions and perform different actions depending on various scenarios, inputs, or data states.\n",
        "\n",
        "\n",
        "  12) How does the elif statement work?\n",
        "\n",
        "    -> In python the elif is used when there are multiple conditions it allows to code to check all the conditions one by one and select the one which meets the criteria.Syntax-\n",
        "          if condition1:\n",
        "              do this\n",
        "          elif condition2:\n",
        "              do this\n",
        "          elif condition3:\n",
        "              do this\n",
        "          else:\n",
        "              do this\n",
        "\n",
        "\n",
        "  13) What is the difference between for and while loops?\n",
        "\n",
        "    -> The main difference between while and for loop in python is that:\n",
        "    i) while loop is used when you want to iterate a task until a specific condition is met, on the other hand\n",
        "    ii) for loop is used when you know how amny times we habe to iterate a task or when we have to iterate a task within a specific range\n",
        "\n",
        "\n",
        "  14)  Describe a scenario where a while loop is more suitable than a for loop?\n",
        "\n",
        "    ->  WHILE loop is used when you want to iterate a task until a specific condition is met, on the other hand. For example, reading data from a file until a specific marker is found, or prompting a user for input until valid input is received. In such cases, the loop continues as long as the condition is true, making a while loop a natural fit\n",
        "\n",
        "\n",
        "    \n",
        "       "
      ],
      "metadata": {
        "id": "tj7PhEiL6SBx"
      }
    },
    {
      "cell_type": "code",
      "source": [
        "# Write a Python program to print \"Hello, World!\"\n",
        "\n",
        "print(\"Hello, World!\")"
      ],
      "metadata": {
        "colab": {
          "base_uri": "https://localhost:8080/"
        },
        "id": "8a1YYERyLFps",
        "outputId": "3616d6bd-f2f4-411a-bf86-44ff8bc64197"
      },
      "execution_count": 2,
      "outputs": [
        {
          "output_type": "stream",
          "name": "stdout",
          "text": [
            "Hello, World!\n"
          ]
        }
      ]
    },
    {
      "cell_type": "code",
      "source": [
        "# Write a Python program that displays your name and age\n",
        "\n",
        "name= input(\"enter your name:\")\n",
        "age= int(input(\"enter your age:\"))\n",
        "print(f\"NAME = {name} \\nAGE = {age}\")"
      ],
      "metadata": {
        "colab": {
          "base_uri": "https://localhost:8080/"
        },
        "id": "TXQm-eIILFlE",
        "outputId": "c7be2ad0-1144-4211-be71-894c4dedb1f0"
      },
      "execution_count": 6,
      "outputs": [
        {
          "output_type": "stream",
          "name": "stdout",
          "text": [
            "enter your name:sandipon mondal\n",
            "enter your age:21\n",
            "NAME = sandipon mondal \n",
            "AGE = 21\n"
          ]
        }
      ]
    },
    {
      "cell_type": "code",
      "source": [
        "# Write code to print all the pre-defined keywords in Python using the keyword library\n",
        "\n",
        "print(\"ALL KEYWORDS IN PYTHON ARE:\")\n",
        "print(help(\"keywords\"))"
      ],
      "metadata": {
        "colab": {
          "base_uri": "https://localhost:8080/"
        },
        "id": "zVhE4J0tLFgQ",
        "outputId": "f53e31b6-6d3d-4de7-fd12-ed3ccea33120"
      },
      "execution_count": 7,
      "outputs": [
        {
          "output_type": "stream",
          "name": "stdout",
          "text": [
            "ALL KEYWORDS IN PYTHON ARE:\n",
            "\n",
            "Here is a list of the Python keywords.  Enter any keyword to get more help.\n",
            "\n",
            "False               class               from                or\n",
            "None                continue            global              pass\n",
            "True                def                 if                  raise\n",
            "and                 del                 import              return\n",
            "as                  elif                in                  try\n",
            "assert              else                is                  while\n",
            "async               except              lambda              with\n",
            "await               finally             nonlocal            yield\n",
            "break               for                 not                 \n",
            "\n",
            "None\n"
          ]
        }
      ]
    },
    {
      "cell_type": "code",
      "source": [
        "# Write a program that checks if a given word is a Python keyword\n",
        "import keyword\n",
        "w=input(\"enter the word to check:\")\n",
        "if w in keyword.kwlist:\n",
        "  print(\"its a keyword\")\n",
        "else:\n",
        "  print(\"its not a keyword\")"
      ],
      "metadata": {
        "colab": {
          "base_uri": "https://localhost:8080/"
        },
        "id": "LkMGuNTkLFbc",
        "outputId": "96268049-0b64-48c8-e157-92390810932d"
      },
      "execution_count": 14,
      "outputs": [
        {
          "output_type": "stream",
          "name": "stdout",
          "text": [
            "enter the word to check:for\n",
            "its a keyword\n"
          ]
        }
      ]
    },
    {
      "cell_type": "code",
      "source": [
        "# Create a list and tuple in Python, and demonstrate how attempting to change an element works differently for each\n",
        "my_list = [1, 2, 3, 4, 5]\n",
        "my_tuple = (1, 2, 3, 4, 5)\n",
        "print(\"Original List:\", my_list)\n",
        "print(\"Original Tuple:\", my_tuple)\n",
        "\n",
        "my_list[1]=10\n",
        "print(\"New List:\", my_list)\n",
        "print(\"*\"*80)\n",
        "\n",
        "print(\"as tuple is immutable it will show the following error:\")\n",
        "print()\n",
        "my_tuple[1]=10\n",
        "print(\"NEw Tuple:\", my_tuple)\n",
        "\n"
      ],
      "metadata": {
        "colab": {
          "base_uri": "https://localhost:8080/",
          "height": 315
        },
        "id": "tu8moRU3LFWW",
        "outputId": "dfae578e-0ec8-4bd5-e34c-915c774b7ed2"
      },
      "execution_count": 20,
      "outputs": [
        {
          "output_type": "stream",
          "name": "stdout",
          "text": [
            "Original List: [1, 2, 3, 4, 5]\n",
            "Original Tuple: (1, 2, 3, 4, 5)\n",
            "New List: [1, 10, 3, 4, 5]\n",
            "********************************************************************************\n",
            "as tuple is immutable it will show the following error:\n",
            "\n"
          ]
        },
        {
          "output_type": "error",
          "ename": "TypeError",
          "evalue": "'tuple' object does not support item assignment",
          "traceback": [
            "\u001b[0;31m---------------------------------------------------------------------------\u001b[0m",
            "\u001b[0;31mTypeError\u001b[0m                                 Traceback (most recent call last)",
            "\u001b[0;32m/tmp/ipython-input-661435311.py\u001b[0m in \u001b[0;36m<cell line: 0>\u001b[0;34m()\u001b[0m\n\u001b[1;32m     11\u001b[0m \u001b[0mprint\u001b[0m\u001b[0;34m(\u001b[0m\u001b[0;34m\"as tuple is immutable it will show the following error:\"\u001b[0m\u001b[0;34m)\u001b[0m\u001b[0;34m\u001b[0m\u001b[0;34m\u001b[0m\u001b[0m\n\u001b[1;32m     12\u001b[0m \u001b[0mprint\u001b[0m\u001b[0;34m(\u001b[0m\u001b[0;34m)\u001b[0m\u001b[0;34m\u001b[0m\u001b[0;34m\u001b[0m\u001b[0m\n\u001b[0;32m---> 13\u001b[0;31m \u001b[0mmy_tuple\u001b[0m\u001b[0;34m[\u001b[0m\u001b[0;36m1\u001b[0m\u001b[0;34m]\u001b[0m\u001b[0;34m=\u001b[0m\u001b[0;36m10\u001b[0m\u001b[0;34m\u001b[0m\u001b[0;34m\u001b[0m\u001b[0m\n\u001b[0m\u001b[1;32m     14\u001b[0m \u001b[0mprint\u001b[0m\u001b[0;34m(\u001b[0m\u001b[0;34m\"NEw Tuple:\"\u001b[0m\u001b[0;34m,\u001b[0m \u001b[0mmy_tuple\u001b[0m\u001b[0;34m)\u001b[0m\u001b[0;34m\u001b[0m\u001b[0;34m\u001b[0m\u001b[0m\n\u001b[1;32m     15\u001b[0m \u001b[0;34m\u001b[0m\u001b[0m\n",
            "\u001b[0;31mTypeError\u001b[0m: 'tuple' object does not support item assignment"
          ]
        }
      ]
    },
    {
      "cell_type": "code",
      "source": [
        "# Write a function to demonstrate the behavior of mutable and immutable arguments\n",
        "\n",
        "def behavior_mutable(my_list):\n",
        "  print(\"as list is mutable its items changed:\")\n",
        "  my_list[2]=20\n",
        "  return my_list\n",
        "\n",
        "\n",
        "def behavior_immutable(my_tuple):\n",
        "  print(\"as tuple is immutable its item cannot be changed and it will show the error:\")\n",
        "  my_tuple[2]=20\n",
        "  return my_tuple\n",
        "\n",
        "my_list=[1,2,3,4,5]\n",
        "my_tuple=(1,2,3,4,5)\n",
        "print(behavior_mutable(my_list))\n",
        "print(\"*\"*100)\n",
        "print(behavior_immutable(my_tuple))"
      ],
      "metadata": {
        "colab": {
          "base_uri": "https://localhost:8080/",
          "height": 367
        },
        "id": "3WSMyd3PLFRS",
        "outputId": "3a68c618-138e-4462-92b5-3172dd2515b6"
      },
      "execution_count": 24,
      "outputs": [
        {
          "output_type": "stream",
          "name": "stdout",
          "text": [
            "as list is mutable its items changed:\n",
            "[1, 2, 20, 4, 5]\n",
            "****************************************************************************************************\n",
            "as tuple is immutable its item cannot be changed and it will show the error:\n"
          ]
        },
        {
          "output_type": "error",
          "ename": "TypeError",
          "evalue": "'tuple' object does not support item assignment",
          "traceback": [
            "\u001b[0;31m---------------------------------------------------------------------------\u001b[0m",
            "\u001b[0;31mTypeError\u001b[0m                                 Traceback (most recent call last)",
            "\u001b[0;32m/tmp/ipython-input-314305169.py\u001b[0m in \u001b[0;36m<cell line: 0>\u001b[0;34m()\u001b[0m\n\u001b[1;32m     16\u001b[0m \u001b[0mprint\u001b[0m\u001b[0;34m(\u001b[0m\u001b[0mbehavior_mutable\u001b[0m\u001b[0;34m(\u001b[0m\u001b[0mmy_list\u001b[0m\u001b[0;34m)\u001b[0m\u001b[0;34m)\u001b[0m\u001b[0;34m\u001b[0m\u001b[0;34m\u001b[0m\u001b[0m\n\u001b[1;32m     17\u001b[0m \u001b[0mprint\u001b[0m\u001b[0;34m(\u001b[0m\u001b[0;34m\"*\"\u001b[0m\u001b[0;34m*\u001b[0m\u001b[0;36m100\u001b[0m\u001b[0;34m)\u001b[0m\u001b[0;34m\u001b[0m\u001b[0;34m\u001b[0m\u001b[0m\n\u001b[0;32m---> 18\u001b[0;31m \u001b[0mprint\u001b[0m\u001b[0;34m(\u001b[0m\u001b[0mbehavior_immutable\u001b[0m\u001b[0;34m(\u001b[0m\u001b[0mmy_tuple\u001b[0m\u001b[0;34m)\u001b[0m\u001b[0;34m)\u001b[0m\u001b[0;34m\u001b[0m\u001b[0;34m\u001b[0m\u001b[0m\n\u001b[0m",
            "\u001b[0;32m/tmp/ipython-input-314305169.py\u001b[0m in \u001b[0;36mbehavior_immutable\u001b[0;34m(my_tuple)\u001b[0m\n\u001b[1;32m      9\u001b[0m \u001b[0;32mdef\u001b[0m \u001b[0mbehavior_immutable\u001b[0m\u001b[0;34m(\u001b[0m\u001b[0mmy_tuple\u001b[0m\u001b[0;34m)\u001b[0m\u001b[0;34m:\u001b[0m\u001b[0;34m\u001b[0m\u001b[0;34m\u001b[0m\u001b[0m\n\u001b[1;32m     10\u001b[0m   \u001b[0mprint\u001b[0m\u001b[0;34m(\u001b[0m\u001b[0;34m\"as tuple is immutable its item cannot be changed and it will show the error:\"\u001b[0m\u001b[0;34m)\u001b[0m\u001b[0;34m\u001b[0m\u001b[0;34m\u001b[0m\u001b[0m\n\u001b[0;32m---> 11\u001b[0;31m   \u001b[0mmy_tuple\u001b[0m\u001b[0;34m[\u001b[0m\u001b[0;36m2\u001b[0m\u001b[0;34m]\u001b[0m\u001b[0;34m=\u001b[0m\u001b[0;36m20\u001b[0m\u001b[0;34m\u001b[0m\u001b[0;34m\u001b[0m\u001b[0m\n\u001b[0m\u001b[1;32m     12\u001b[0m   \u001b[0;32mreturn\u001b[0m \u001b[0mmy_tuple\u001b[0m\u001b[0;34m\u001b[0m\u001b[0;34m\u001b[0m\u001b[0m\n\u001b[1;32m     13\u001b[0m \u001b[0;34m\u001b[0m\u001b[0m\n",
            "\u001b[0;31mTypeError\u001b[0m: 'tuple' object does not support item assignment"
          ]
        }
      ]
    },
    {
      "cell_type": "code",
      "source": [
        "# Write a program that performs basic arithmetic operations on two user-input numbers.\n",
        "\n",
        "num1 = int(input(\"Enter the first number: \"))\n",
        "num2 = int(input(\"Enter the second number: \"))\n",
        "\n",
        "print(\"Addition:\", num1 + num2)\n",
        "print(\"Subtraction:\", num1 - num2)\n",
        "print(\"Multiplication:\", num1 * num2)\n",
        "print(\"Division:\", float(num1 / num2))\n",
        "print(\"Floor Division:\", num1 // num2)\n",
        "print(\"Modulus:\", num1 % num2)\n",
        "print(\"Exponentiation:\", num1 ** num2)"
      ],
      "metadata": {
        "colab": {
          "base_uri": "https://localhost:8080/"
        },
        "id": "QielJRYVLFMQ",
        "outputId": "bd1b02e0-5f17-4d7f-e35d-c8d84aaccf0c"
      },
      "execution_count": 25,
      "outputs": [
        {
          "output_type": "stream",
          "name": "stdout",
          "text": [
            "Enter the first number: 5\n",
            "Enter the second number: 3\n",
            "Addition: 8\n",
            "Subtraction: 2\n",
            "Multiplication: 15\n",
            "Division: 1.6666666666666667\n",
            "Floor Division: 1\n",
            "Modulus: 2\n",
            "Exponentiation: 125\n"
          ]
        }
      ]
    },
    {
      "cell_type": "code",
      "source": [
        "#  Write a program to demonstrate the use of logical operators.\n",
        "x=5\n",
        "print(x>1 and x<10)\n",
        "print(x>3 or x<5)\n",
        "print(not(x>10))"
      ],
      "metadata": {
        "colab": {
          "base_uri": "https://localhost:8080/"
        },
        "id": "_I1IOahFLFHA",
        "outputId": "447b50f7-d3a6-413f-fcca-e39e48e1dbc1"
      },
      "execution_count": 27,
      "outputs": [
        {
          "output_type": "stream",
          "name": "stdout",
          "text": [
            "True\n",
            "True\n",
            "True\n"
          ]
        }
      ]
    },
    {
      "cell_type": "code",
      "source": [
        "# Write a Python program to convert user input from string to integer, float, and boolean types\n",
        "a=input(\"enter a number \")\n",
        "print(\"type of the user input:\",type(a))\n",
        "print(\"in integer:\",int(a),type(int(a)))\n",
        "print(\"in float:\",float(a),type(float(a)))\n",
        "print(\"in boolean:\",bool(a),type(bool(a)))\n"
      ],
      "metadata": {
        "colab": {
          "base_uri": "https://localhost:8080/"
        },
        "id": "8oC0sYyKLFBs",
        "outputId": "feba919d-896f-4d84-f6f1-16133b1e5fd2"
      },
      "execution_count": 35,
      "outputs": [
        {
          "output_type": "stream",
          "name": "stdout",
          "text": [
            "enter a number 5\n",
            "type of the user input: <class 'str'>\n",
            "in integer: 5 <class 'int'>\n",
            "in float: 5.0 <class 'float'>\n",
            "in boolean: True <class 'bool'>\n"
          ]
        }
      ]
    },
    {
      "cell_type": "code",
      "source": [
        "# Write code to demonstrate type casting with list elements\n",
        "\n",
        "my_list = ['0', '1', '2', '3', '4']\n",
        "print(\"Original list:\", my_list, type(my_list[0]))\n",
        "int_list=[]\n",
        "float_list=[]\n",
        "bool_list=[]\n",
        "\n",
        "for x in my_list:\n",
        "  int_list.append(int(x))\n",
        "print(\"integer list:\",int_list,type(int_list[0]))\n",
        "\n",
        "for x in my_list:\n",
        "  float_list.append(float(x))\n",
        "print(\"float list:\",float_list,type(float_list[0]))\n",
        "\n",
        "for x in my_list:\n",
        "  bool_list.append(bool(x))\n",
        "print(\"boolean list:\",bool_list,type(bool_list[0]))"
      ],
      "metadata": {
        "colab": {
          "base_uri": "https://localhost:8080/"
        },
        "id": "fuekl_FRLE7s",
        "outputId": "7d909e15-dcaf-4596-800d-91208e227f23"
      },
      "execution_count": 43,
      "outputs": [
        {
          "output_type": "stream",
          "name": "stdout",
          "text": [
            "Original list: ['0', '1', '2', '3', '4'] <class 'str'>\n",
            "integer list: [0, 1, 2, 3, 4] <class 'int'>\n",
            "float list: [0.0, 1.0, 2.0, 3.0, 4.0] <class 'float'>\n",
            "boolean list: [True, True, True, True, True] <class 'bool'>\n"
          ]
        }
      ]
    },
    {
      "cell_type": "code",
      "source": [
        "# Write a program that checks if a number is positive, negative, or zero\n",
        "a=int(input(\"enter the num:\"))\n",
        "if a>=1:\n",
        "  print(\"its positive\")\n",
        "elif a<0:\n",
        "  print(\"its negetive\")\n",
        "else:\n",
        "   print(\"its zero\")"
      ],
      "metadata": {
        "colab": {
          "base_uri": "https://localhost:8080/"
        },
        "id": "5-DlDP6ELE1o",
        "outputId": "13ce4327-4ad7-4571-ac74-fd99ed2ed105"
      },
      "execution_count": 52,
      "outputs": [
        {
          "output_type": "stream",
          "name": "stdout",
          "text": [
            "enter the num:0\n",
            "its zero\n"
          ]
        }
      ]
    },
    {
      "cell_type": "code",
      "source": [
        "# Write a for loop to print numbers from 1 to 10\n",
        "for i in range(1,11):\n",
        "  print(i)"
      ],
      "metadata": {
        "colab": {
          "base_uri": "https://localhost:8080/"
        },
        "id": "IY7ItbVhLEwK",
        "outputId": "712784d3-33be-453c-f4c5-516159299243"
      },
      "execution_count": 54,
      "outputs": [
        {
          "output_type": "stream",
          "name": "stdout",
          "text": [
            "1\n",
            "2\n",
            "3\n",
            "4\n",
            "5\n",
            "6\n",
            "7\n",
            "8\n",
            "9\n",
            "10\n"
          ]
        }
      ]
    },
    {
      "cell_type": "code",
      "source": [
        "# Write a Python program to find the sum of all even numbers between 1 and 50\n",
        "\n",
        "c=0\n",
        "for i in range(1,51):\n",
        "  if i%2==0:\n",
        "    c=c+i\n",
        "print(\"the sum is:\",c)"
      ],
      "metadata": {
        "colab": {
          "base_uri": "https://localhost:8080/"
        },
        "id": "jJQGhPA0LEqK",
        "outputId": "5aa978e9-3dda-4acd-e5cc-d15f9f652225"
      },
      "execution_count": 55,
      "outputs": [
        {
          "output_type": "stream",
          "name": "stdout",
          "text": [
            "the sum is: 650\n"
          ]
        }
      ]
    },
    {
      "cell_type": "code",
      "source": [
        "#  Write a program to reverse a string using a while loop\n",
        "x=\"sandipon\"\n",
        "for i in range(len(x)-1,-1,-1):\n",
        "  print(x[i], end=\"\")"
      ],
      "metadata": {
        "colab": {
          "base_uri": "https://localhost:8080/"
        },
        "id": "dRJLR4ZVLETu",
        "outputId": "db253856-6c60-45cf-feb9-dc9f32ed4b63"
      },
      "execution_count": 60,
      "outputs": [
        {
          "output_type": "stream",
          "name": "stdout",
          "text": [
            "nopidnas"
          ]
        }
      ]
    },
    {
      "cell_type": "code",
      "source": [
        "# Write a Python program to calculate the factorial of a number provided by the user using a while loop\n",
        "x=int(input(\"enter the num:\"))\n",
        "if x<=0:\n",
        "  print(\"enter a positive number\")\n",
        "else:\n",
        "  c=1\n",
        "  while x>0:\n",
        "    c=c*x\n",
        "    x-=1\n",
        "  print(\"factorial is:\",c)\n",
        "\n",
        "\n",
        "\n",
        "\n"
      ],
      "metadata": {
        "colab": {
          "base_uri": "https://localhost:8080/"
        },
        "id": "AH-yK0pBLEHv",
        "outputId": "f279cce1-6f44-4d88-f489-d9d52a7580e0"
      },
      "execution_count": 11,
      "outputs": [
        {
          "output_type": "stream",
          "name": "stdout",
          "text": [
            "enter the num:-9\n",
            "enter a positive number\n"
          ]
        }
      ]
    }
  ]
}