{
  "nbformat": 4,
  "nbformat_minor": 0,
  "metadata": {
    "colab": {
      "provenance": []
    },
    "kernelspec": {
      "name": "python3",
      "display_name": "Python 3"
    },
    "language_info": {
      "name": "python"
    }
  },
  "cells": [
    {
      "cell_type": "markdown",
      "source": [
        "1) What are data structures, and why are they important?\n",
        "\n",
        "-> Data Structure ia a way of organizing and storing data in python. It is important because it helps in easy manupulation and accessing of data\n",
        "\n",
        "\n",
        "2) Explain the difference between mutable and immutable data types with examples?\n",
        "\n",
        "-> In mutable data types we can change the values after it is created while in immutable we cannot change the values after the data is created.\n",
        "\n",
        "\n",
        "3)What are the main differences between lists and tuples in Python?\n",
        "\n",
        "-> List in python are mutable i.e. it can be changed after it is created and is enclosed in [] while tuples are immutable i.e. it cant be changed after it is created and is enclosed in ().\n",
        "\n",
        "\n",
        "4)Describe how dictionaries store data?\n",
        "\n",
        "-> It stores data in the form of key value pairs where we can access the values with the help of the unique keys available for each value it is similar to lists but in place of numbers it uses keys as indexing.\n",
        "\n",
        "\n",
        "5)Why might you use a set instead of a list in Python?\n",
        "\n",
        "-> In set there will be no repeatation of a value but in lists repeatation occurs, so in cases where we have to make sure only a unique value is stored such as roll numbers or phone numbers we use set.\n",
        "\n",
        "\n",
        "6)What is a string in Python, and how is it different from a list?\n",
        "\n",
        "-> String in python is a sequence of characters enclosed within single/double quotes. Strings in python are immutable i.e. it cant be changed after its creation so its different from lists as its a mutable data type.\n",
        "\n",
        "\n",
        "7)How do tuples ensure data integrity in Python?\n",
        "\n",
        "-> Tuples are immutable you cant change its content after ts creation which hepls to protect the integrity of data in python.\n",
        "\n",
        "\n",
        "8)What is a hash table, and how does it relate to dictionaries in Python?\n",
        "\n",
        "-> A hash table is a data structure that stores data in key–value pairs and allows very fast lookups, insertions, and deletions. A dictionary in python is implemented with hash table.\n",
        "\n",
        "\n",
        "9)Can lists contain different data types in Python?\n",
        "\n",
        "-> Yes list can contain different types of data as it is a heterogeneous data structure.\n",
        "\n",
        "\n",
        "10)Explain why strings are immutable in Python?\n",
        "\n",
        "-> In Python, strings are immutable, meaning once a string is created, it cannot be changed. If you try to modify it, Python actually creates a new string object instead of altering the original one.\n",
        "\n",
        "\n",
        "11)What advantages do dictionaries offer over lists for certain tasks?\n",
        "\n",
        "-> Dictionaries in Python offer several advantages over lists for certain tasks. The most important benefit is speed: dictionaries provide very fast lookups because they use hash tables, while lists require sequential searches. Another advantage is that dictionaries store data as key-value pairs, which makes information more structured and readable compared to lists that only use integer indices.\n",
        "\n",
        "\n",
        "12)Describe a scenario where using a tuple would be preferable over a list.?\n",
        "\n",
        "-> A tuple would be preferable in storing import data where integrity is important as it is immutable for exmple it can be used to store employee id of employees in a code that will shopw which employees are going to be promoted here the employee-id's who are about to get promoted will not be altered\n",
        "\n",
        "\n",
        "13)How do sets handle duplicate values in Python?\n",
        "\n",
        "-> In set only unique values will be stored no matter how many times you have inputted a character as while printing it will print the characters once and will remove the duplicate ones automatically.\n",
        "\n",
        "\n",
        "14)How does the “in” keyword work differently for lists and dictionaries?\n",
        "\n",
        "-> In Python, the “in” keyword behaves differently for lists and dictionaries. When used with a list, it checks whether a value exists as an element by scanning the list sequentially. when used with a dictionary, \"in\" checks only the keys, not the values.Thus, \"in\" tests elements in lists but keys in dictionaries.\n",
        "\n",
        "\n",
        "15)Can you modify the elements of a tuple? Explain why or why not?\n",
        "\n",
        "-> We cannot modify elements in a tuple as it is immutable which means we cant change its elements after its creation.\n",
        "\n",
        "\n",
        "16)What is a nested dictionary, and give an example of its use case?\n",
        "A nested dictionary ia a dictionary where we have other dictionaries in place of the values of its keys.It can be used to store employee information for a office . For example:-\n",
        "employees = {\n",
        "    \"E001\": {\n",
        "        \"name\": \"Alice\",\n",
        "        \"age\": 28,\n",
        "        \"department\": \"HR\",\n",
        "        \"skills\": [\"Communication\", \"Recruitment\"]\n",
        "    },\n",
        "    \"E002\": {\n",
        "        \"name\": \"Bob\",\n",
        "        \"age\": 32,\n",
        "        \"department\": \"IT\",\n",
        "        \"skills\": [\"Python\", \"Data Analysis\", \"Machine Learning\"]\n",
        "    },\n",
        "    \"E003\": {\n",
        "        \"name\": \"Charlie\",\n",
        "        \"age\": 26,\n",
        "        \"department\": \"Finance\",\n",
        "        \"skills\": [\"Excel\", \"Accounting\"]\n",
        "    }\n",
        "} here the ids are keys of the primary dictionary while name,age,dept,skills are keys of the inner dictionaries.\n",
        "\n",
        "\n",
        "17)Describe the time complexity of accessing elements in a dictionary?\n",
        "\n",
        "-> Accessing elements in a dictionary in Python is generally very efficient because dictionaries are implemented using hash tables. The average time complexity for accessing an element by its key is O(1), meaning it takes constant time regardless of the dictionary size. This happens because the key is first hashed, and its hash value directly points to the location of the corresponding value in memory. in wrost case its time complexity is O(n) i.e. when we have two or more same keys.\n",
        "\n",
        "\n",
        "18)In what situations are lists preferred over dictionaries?\n",
        "\n",
        "-> Lists are preferred over dictionaries in situations where the order of elements matters or when you simply need to store a sequence of values without key-value mapping. For example, lists are ideal when you want to maintain elements in the order they are inserted, access items by their position (index), or when duplicate values are allowed. They are also simpler and use less memory compared.\n",
        "\n",
        "\n",
        "19)Why are dictionaries considered unordered, and how does that affect data retrieval?\n",
        "\n",
        "-> Dictionaries are considered unordered because their elements are stored based on hash values of keys, not in the order they were inserted (though from Python 3.7+ insertion order is preserved as an implementation detail). This means you can't rely on the position of items for retrieval like in a list; instead, you must access values directly using their keys ,data retrieval is always key-based, not index-based.\n",
        "\n",
        "20)Explain the difference between a list and a dictionary in terms of data retrieval?\n",
        "\n",
        "-> Data retrieval is always key-based, not index-based as the data in dictionaries is stored based on the hash values of the keys and thus are un-ordered while in list data is stored in order.This means you can't rely on the position of items for retrieval like in a list"
      ],
      "metadata": {
        "id": "--rBpMFtOU2i"
      }
    },
    {
      "cell_type": "markdown",
      "source": [],
      "metadata": {
        "id": "Gr3sR0k7OWTs"
      }
    },
    {
      "cell_type": "code",
      "execution_count": 1,
      "metadata": {
        "colab": {
          "base_uri": "https://localhost:8080/"
        },
        "id": "8KNH8BMCOIhg",
        "outputId": "60ff442f-9b0e-4e4c-a52d-1e9b3e0cdc48"
      },
      "outputs": [
        {
          "output_type": "stream",
          "name": "stdout",
          "text": [
            "Sandipon\n"
          ]
        }
      ],
      "source": [
        "# 21. Write a code to create a string with your name and print it\n",
        "name = \"Sandipon\"\n",
        "print(name)\n"
      ]
    },
    {
      "cell_type": "code",
      "source": [
        "# 22. Write a code to find the length of the string \"Hello World\"\n",
        "s = \"Hello World\"\n",
        "print(len(s))\n"
      ],
      "metadata": {
        "colab": {
          "base_uri": "https://localhost:8080/"
        },
        "id": "FUmEzCEJamVS",
        "outputId": "e983de12-08b3-48a5-9839-8540135cdce7"
      },
      "execution_count": 2,
      "outputs": [
        {
          "output_type": "stream",
          "name": "stdout",
          "text": [
            "11\n"
          ]
        }
      ]
    },
    {
      "cell_type": "code",
      "source": [
        "# 23. Write a code to slice the first 3 characters from the string \"Python Programming\"\n",
        "s = \"Python Programming\"\n",
        "print(s[:3])\n",
        "\n"
      ],
      "metadata": {
        "colab": {
          "base_uri": "https://localhost:8080/"
        },
        "id": "qRJF7gYbaplt",
        "outputId": "f152eaf2-a6f6-4142-f5d7-0d0d50bc0b36"
      },
      "execution_count": 4,
      "outputs": [
        {
          "output_type": "stream",
          "name": "stdout",
          "text": [
            "Pyt\n"
          ]
        }
      ]
    },
    {
      "cell_type": "code",
      "source": [
        "# 24. Write a code to convert the string \"hello\" to uppercase\n",
        "s = \"hello\"\n",
        "print(s.upper())\n",
        "\n"
      ],
      "metadata": {
        "colab": {
          "base_uri": "https://localhost:8080/"
        },
        "id": "mbVPSH0Nappy",
        "outputId": "d5238461-2869-4713-e5c8-b337e5239cc2"
      },
      "execution_count": 6,
      "outputs": [
        {
          "output_type": "stream",
          "name": "stdout",
          "text": [
            "HELLO\n"
          ]
        }
      ]
    },
    {
      "cell_type": "code",
      "source": [
        "# 25. Write a code to replace the word \"apple\" with \"orange\" in the string \"I like apple\"\n",
        "s = \"I like apple\"\n",
        "print(s.replace(\"apple\", \"orange\"))\n",
        "\n"
      ],
      "metadata": {
        "colab": {
          "base_uri": "https://localhost:8080/"
        },
        "id": "gHPQdXGBaptj",
        "outputId": "7e0424ab-cc1e-414e-93d7-959be42cd1c5"
      },
      "execution_count": 7,
      "outputs": [
        {
          "output_type": "stream",
          "name": "stdout",
          "text": [
            "I like orange\n"
          ]
        }
      ]
    },
    {
      "cell_type": "code",
      "source": [
        "# 26. Write a code to create a list with numbers 1 to 5 and print it\n",
        "list = [1, 2, 3, 4, 5]\n",
        "print(list)\n",
        "\n"
      ],
      "metadata": {
        "colab": {
          "base_uri": "https://localhost:8080/"
        },
        "id": "z8MYLlV5apxO",
        "outputId": "fb974576-2343-4bd8-d688-08e19376dd5a"
      },
      "execution_count": 8,
      "outputs": [
        {
          "output_type": "stream",
          "name": "stdout",
          "text": [
            "[1, 2, 3, 4, 5]\n"
          ]
        }
      ]
    },
    {
      "cell_type": "code",
      "source": [
        "# 27. Write a code to append the number 10 to the list [1, 2, 3, 4]\n",
        "list = [1, 2, 3, 4]\n",
        "list.append(10)\n",
        "print(list)\n",
        "\n"
      ],
      "metadata": {
        "colab": {
          "base_uri": "https://localhost:8080/"
        },
        "id": "rXVRm1tgap0t",
        "outputId": "b0b86e30-107c-4033-87ee-8b3d2d2e363d"
      },
      "execution_count": 11,
      "outputs": [
        {
          "output_type": "stream",
          "name": "stdout",
          "text": [
            "[1, 2, 3, 4, 10]\n"
          ]
        }
      ]
    },
    {
      "cell_type": "code",
      "source": [
        "# 28. Write a code to remove the number 3 from the list [1, 2, 3, 4, 5]\n",
        "list = [1, 2, 3, 4, 5]\n",
        "list.remove(3)\n",
        "print(list)\n",
        "\n"
      ],
      "metadata": {
        "colab": {
          "base_uri": "https://localhost:8080/"
        },
        "id": "JXzX2wsOaqqH",
        "outputId": "32d4255f-4423-4838-b082-5abd101006b5"
      },
      "execution_count": 15,
      "outputs": [
        {
          "output_type": "stream",
          "name": "stdout",
          "text": [
            "[1, 2, 4, 5]\n"
          ]
        }
      ]
    },
    {
      "cell_type": "code",
      "source": [
        "# 29. Write a code to access the second element in the list ['a', 'b', 'c', 'd']\n",
        "list = ['a', 'b', 'c', 'd']\n",
        "print(list[1])\n",
        "\n"
      ],
      "metadata": {
        "colab": {
          "base_uri": "https://localhost:8080/"
        },
        "id": "Zt7VKmRfaqun",
        "outputId": "f6036010-e885-4415-e52d-d70738238ac9"
      },
      "execution_count": 16,
      "outputs": [
        {
          "output_type": "stream",
          "name": "stdout",
          "text": [
            "b\n"
          ]
        }
      ]
    },
    {
      "cell_type": "code",
      "source": [
        "# 30. Write a code to reverse the list [10, 20, 30, 40, 50]\n",
        "list = [10, 20, 30, 40, 50]\n",
        "list.reverse()\n",
        "print(list)\n",
        "\n"
      ],
      "metadata": {
        "colab": {
          "base_uri": "https://localhost:8080/"
        },
        "id": "sejL9z5TaqzA",
        "outputId": "c328492a-ed5f-4846-e8b8-ef72ffbeb438"
      },
      "execution_count": 26,
      "outputs": [
        {
          "output_type": "stream",
          "name": "stdout",
          "text": [
            "[50, 40, 30, 20, 10]\n"
          ]
        }
      ]
    },
    {
      "cell_type": "code",
      "source": [
        "# 31. Write a code to create a tuple with the elements 100, 200, 300 and print it\n",
        "tup = (100, 200, 300)\n",
        "print(tup)\n",
        "\n"
      ],
      "metadata": {
        "colab": {
          "base_uri": "https://localhost:8080/"
        },
        "id": "O09c_lj9aq58",
        "outputId": "195d846f-edf9-4100-acfa-b9236b032850"
      },
      "execution_count": 27,
      "outputs": [
        {
          "output_type": "stream",
          "name": "stdout",
          "text": [
            "(100, 200, 300)\n"
          ]
        }
      ]
    },
    {
      "cell_type": "code",
      "source": [
        "# 32. Write a code to access the second-to-last element of the tuple ('red', 'green', 'blue', 'yellow')\n",
        "tup = ('red', 'green', 'blue', 'yellow')\n",
        "print(tup[1:])\n",
        "\n"
      ],
      "metadata": {
        "colab": {
          "base_uri": "https://localhost:8080/"
        },
        "id": "ST5Loe1haq-P",
        "outputId": "b75118fd-85e1-4911-b669-4344f5df37ae"
      },
      "execution_count": 29,
      "outputs": [
        {
          "output_type": "stream",
          "name": "stdout",
          "text": [
            "('green', 'blue', 'yellow')\n"
          ]
        }
      ]
    },
    {
      "cell_type": "code",
      "source": [
        "# 33. Write a code to find the minimum number in the tuple (10, 20, 5, 15)\n",
        "tup = (10, 20, 5, 15)\n",
        "print(min(tup))\n",
        "\n"
      ],
      "metadata": {
        "colab": {
          "base_uri": "https://localhost:8080/"
        },
        "id": "mJMgLrMparDa",
        "outputId": "b0084caa-9f78-4f08-df2a-f566d5eadb05"
      },
      "execution_count": 30,
      "outputs": [
        {
          "output_type": "stream",
          "name": "stdout",
          "text": [
            "5\n"
          ]
        }
      ]
    },
    {
      "cell_type": "code",
      "source": [
        "# 34. Write a code to find the index of the element \"cat\" in the tuple ('dog', 'cat', 'rabbit')\n",
        "tup = ('dog', 'cat', 'rabbit')\n",
        "print(tup.index(\"cat\"))\n",
        "\n"
      ],
      "metadata": {
        "colab": {
          "base_uri": "https://localhost:8080/"
        },
        "id": "dTDZopIOarH_",
        "outputId": "3c615e0c-d018-4786-f4e0-04849980b175"
      },
      "execution_count": 31,
      "outputs": [
        {
          "output_type": "stream",
          "name": "stdout",
          "text": [
            "1\n"
          ]
        }
      ]
    },
    {
      "cell_type": "code",
      "source": [
        "# 35. Write a code to create a tuple containing three different fruits and check if \"kiwi\" is in it\n",
        "fruits = (\"apple\", \"banana\", \"mango\")\n",
        "if \"kiwi\" in fruits:\n",
        "  print(\"kiwi is in the tuple\")\n",
        "else:\n",
        "  print(\"kiwi is not in the tuple\")\n",
        "\n"
      ],
      "metadata": {
        "colab": {
          "base_uri": "https://localhost:8080/"
        },
        "id": "bYG7Yr13arNC",
        "outputId": "af7720e6-6cd3-4592-c683-6b7ffe461bd1"
      },
      "execution_count": 32,
      "outputs": [
        {
          "output_type": "stream",
          "name": "stdout",
          "text": [
            "kiwi is not in the tuple\n"
          ]
        }
      ]
    },
    {
      "cell_type": "code",
      "source": [
        "# 36. Write a code to create a set with the elements 'a', 'b', 'c' and print it\n",
        "s = {'a', 'b', 'c'}\n",
        "print(s)\n",
        "\n"
      ],
      "metadata": {
        "colab": {
          "base_uri": "https://localhost:8080/"
        },
        "id": "VkHgth9jarSE",
        "outputId": "3fb6337a-4427-4de9-93a2-7866394ae031"
      },
      "execution_count": 35,
      "outputs": [
        {
          "output_type": "stream",
          "name": "stdout",
          "text": [
            "{'a', 'b', 'c'}\n"
          ]
        }
      ]
    },
    {
      "cell_type": "code",
      "source": [
        "# 37. Write a code to clear all elements from the set {1, 2, 3, 4, 5}\n",
        "s = {1, 2, 3, 4, 5}\n",
        "s.clear()\n",
        "print(s)\n",
        "\n"
      ],
      "metadata": {
        "colab": {
          "base_uri": "https://localhost:8080/"
        },
        "id": "LmdCdpr3arW-",
        "outputId": "4293c96f-6a7b-4aec-9605-a71485e775d8"
      },
      "execution_count": 36,
      "outputs": [
        {
          "output_type": "stream",
          "name": "stdout",
          "text": [
            "set()\n"
          ]
        }
      ]
    },
    {
      "cell_type": "code",
      "source": [
        "# 38. Write a code to remove the element 4 from the set {1, 2, 3, 4}\n",
        "s = {1, 2, 3, 4}\n",
        "s.remove(4)\n",
        "print(s)\n",
        "\n"
      ],
      "metadata": {
        "colab": {
          "base_uri": "https://localhost:8080/"
        },
        "id": "6keQRKO3arcO",
        "outputId": "91fc0fc6-eb18-460d-b83a-20524401655a"
      },
      "execution_count": 38,
      "outputs": [
        {
          "output_type": "stream",
          "name": "stdout",
          "text": [
            "{1, 2, 3}\n"
          ]
        }
      ]
    },
    {
      "cell_type": "code",
      "source": [
        "# 39. Write a code to find the union of two sets {1, 2, 3} and {3, 4, 5}\n",
        "a = {1, 2, 3}\n",
        "b = {3, 4, 5}\n",
        "print(a.union(b))\n",
        "\n"
      ],
      "metadata": {
        "colab": {
          "base_uri": "https://localhost:8080/"
        },
        "id": "OWpRosp_arhM",
        "outputId": "71edb55f-0a7d-48fa-e135-cdbbb92b4bcc"
      },
      "execution_count": 39,
      "outputs": [
        {
          "output_type": "stream",
          "name": "stdout",
          "text": [
            "{1, 2, 3, 4, 5}\n"
          ]
        }
      ]
    },
    {
      "cell_type": "code",
      "source": [
        "# 40. Write a code to find the intersection of two sets {1, 2, 3} and {2, 3, 4}\n",
        "a = {1, 2, 3}\n",
        "b = {2, 3, 4}\n",
        "print(a.intersection(b))\n",
        "\n"
      ],
      "metadata": {
        "colab": {
          "base_uri": "https://localhost:8080/"
        },
        "id": "FIsA2DQDarmM",
        "outputId": "20a8c0fa-f698-4e72-dc26-168e4ed0e0e8"
      },
      "execution_count": 40,
      "outputs": [
        {
          "output_type": "stream",
          "name": "stdout",
          "text": [
            "{2, 3}\n"
          ]
        }
      ]
    },
    {
      "cell_type": "code",
      "source": [
        "# 41. Write a code to create a dictionary with the keys \"name\", \"age\", and \"city\", and print it\n",
        "d = {\"name\": \"Alice\", \"age\": 25, \"city\": \"Paris\"}\n",
        "print(d)\n",
        "\n"
      ],
      "metadata": {
        "colab": {
          "base_uri": "https://localhost:8080/"
        },
        "id": "xOUTEsIparrU",
        "outputId": "b210c9e4-2731-4e87-88c2-adfc817b33d2"
      },
      "execution_count": 41,
      "outputs": [
        {
          "output_type": "stream",
          "name": "stdout",
          "text": [
            "{'name': 'Alice', 'age': 25, 'city': 'Paris'}\n"
          ]
        }
      ]
    },
    {
      "cell_type": "code",
      "source": [
        "# 42. Write a code to add a new key-value pair \"country\": \"USA\" to the dictionary {'name': 'John', 'age': 25}\n",
        "d = {'name': 'John', 'age': 25}\n",
        "d[\"country\"] = \"USA\"\n",
        "print(d)\n",
        "\n"
      ],
      "metadata": {
        "colab": {
          "base_uri": "https://localhost:8080/"
        },
        "id": "gg3ExsNoarwK",
        "outputId": "46006040-99b7-4949-e7c5-441eb17f99cc"
      },
      "execution_count": 42,
      "outputs": [
        {
          "output_type": "stream",
          "name": "stdout",
          "text": [
            "{'name': 'John', 'age': 25, 'country': 'USA'}\n"
          ]
        }
      ]
    },
    {
      "cell_type": "code",
      "source": [
        "# 43. Write a code to access the value associated with the key \"name\" in the dictionary {'name': 'Alice', 'age': 30}\n",
        "d = {'name': 'Alice', 'age': 30}\n",
        "print(d.get(\"name\"))\n",
        "\n"
      ],
      "metadata": {
        "colab": {
          "base_uri": "https://localhost:8080/"
        },
        "id": "8Y3XBCqLar0N",
        "outputId": "5e6cae9e-3907-4d99-a8e4-ac3b6d84ae32"
      },
      "execution_count": 48,
      "outputs": [
        {
          "output_type": "stream",
          "name": "stdout",
          "text": [
            "Alice\n"
          ]
        }
      ]
    },
    {
      "cell_type": "code",
      "source": [
        "# 44. Write a code to remove the key \"age\" from the dictionary {'name': 'Bob', 'age': 22, 'city': 'New York'}\n",
        "d = {'name': 'Bob', 'age': 22, 'city': 'New York'}\n",
        "d.pop(\"age\")\n",
        "print(d)\n",
        "\n"
      ],
      "metadata": {
        "colab": {
          "base_uri": "https://localhost:8080/"
        },
        "id": "_nHYbKLLar4p",
        "outputId": "c66b3cf7-4113-426b-e217-75a5a79ecaa9"
      },
      "execution_count": 47,
      "outputs": [
        {
          "output_type": "stream",
          "name": "stdout",
          "text": [
            "{'name': 'Bob', 'city': 'New York'}\n"
          ]
        }
      ]
    },
    {
      "cell_type": "code",
      "source": [
        "# 45. Write a code to check if the key \"city\" exists in the dictionary {'name': 'Alice', 'city': 'Paris'}\n",
        "d = {'name': 'Alice', 'city': 'Paris'}\n",
        "print(\"city\" in d)\n",
        "\n"
      ],
      "metadata": {
        "colab": {
          "base_uri": "https://localhost:8080/"
        },
        "id": "G8qc5XK9ar98",
        "outputId": "b85edd7f-119c-439b-ee84-7c2c3073e1c4"
      },
      "execution_count": 49,
      "outputs": [
        {
          "output_type": "stream",
          "name": "stdout",
          "text": [
            "True\n"
          ]
        }
      ]
    },
    {
      "cell_type": "code",
      "source": [
        "# 46. Write a code to create a list, a tuple, and a dictionary, and print them all\n",
        "lst = [1, 2, 3]\n",
        "tup = (4, 5, 6)\n",
        "d = {\"a\": 1, \"b\": 2}\n",
        "print(\"list is {}\\ntuple is {}\\ndictionary is{}\".format(lst,tup,d))"
      ],
      "metadata": {
        "colab": {
          "base_uri": "https://localhost:8080/"
        },
        "id": "udjwxdpwasCq",
        "outputId": "690f8d5d-8bf7-45d4-bd9c-170d8e45f00e"
      },
      "execution_count": 53,
      "outputs": [
        {
          "output_type": "stream",
          "name": "stdout",
          "text": [
            "list is [1, 2, 3]\n",
            "tuple is (4, 5, 6)\n",
            "dictionary is{'a': 1, 'b': 2}\n"
          ]
        }
      ]
    },
    {
      "cell_type": "code",
      "source": [
        "# 47. Write a code to create a list of 5 random numbers between 1 and 100, sort it in ascending order, and print the result\n",
        "lst = [-4,99,23,8,76]\n",
        "lst.sort()\n",
        "print(lst)\n",
        "\n"
      ],
      "metadata": {
        "colab": {
          "base_uri": "https://localhost:8080/"
        },
        "id": "ixS6jZSQasHQ",
        "outputId": "ad04936c-c2c0-486e-d31d-bd235687caca"
      },
      "execution_count": 60,
      "outputs": [
        {
          "output_type": "stream",
          "name": "stdout",
          "text": [
            "[-4, 8, 23, 76, 99]\n"
          ]
        }
      ]
    },
    {
      "cell_type": "code",
      "source": [
        "# 48. Write a code to create a list with strings and print the element at the third index\n",
        "lst = [\"apple\", \"banana\", \"cherry\", \"date\",\"mango\"]\n",
        "print(lst[3])\n",
        "\n"
      ],
      "metadata": {
        "colab": {
          "base_uri": "https://localhost:8080/"
        },
        "id": "8hfKMIxMasL_",
        "outputId": "530592a8-a135-4ee0-ca18-0a76a0eb6e32"
      },
      "execution_count": 62,
      "outputs": [
        {
          "output_type": "stream",
          "name": "stdout",
          "text": [
            "date\n"
          ]
        }
      ]
    },
    {
      "cell_type": "code",
      "source": [
        "# 49. Write a code to combine two dictionaries into one and print the result\n",
        "d1 = {\"a\": 1, \"b\": 2}\n",
        "d2 = {\"c\": 3, \"d\": 4}\n",
        "d1.update(d2)\n",
        "print(d1)\n"
      ],
      "metadata": {
        "colab": {
          "base_uri": "https://localhost:8080/"
        },
        "id": "c2yLJ6QhasP3",
        "outputId": "a2bd6f68-9149-40ca-e129-a91ffeec3845"
      },
      "execution_count": 71,
      "outputs": [
        {
          "output_type": "stream",
          "name": "stdout",
          "text": [
            "{'a': 1, 'b': 2, 'c': 3, 'd': 4}\n"
          ]
        }
      ]
    },
    {
      "cell_type": "code",
      "source": [
        "\n",
        "# 50. Write a code to convert a list of strings into a set\n",
        "lst = [\"apple\", \"banana\", \"apple\", \"cherry\"]\n",
        "s = set(lst)\n",
        "print(s)\n"
      ],
      "metadata": {
        "colab": {
          "base_uri": "https://localhost:8080/"
        },
        "id": "-GnJfZCdasUK",
        "outputId": "3b3fdf8c-56d5-4e9e-9659-15418ab527eb"
      },
      "execution_count": 76,
      "outputs": [
        {
          "output_type": "stream",
          "name": "stdout",
          "text": [
            "{'cherry', 'banana', 'apple'}\n"
          ]
        }
      ]
    }
  ]
}